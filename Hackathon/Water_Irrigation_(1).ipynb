{
  "cells": [
    {
      "cell_type": "markdown",
      "id": "twelve-decimal",
      "metadata": {
        "id": "twelve-decimal"
      },
      "source": [
        "# Water Irrigation"
      ]
    },
    {
      "cell_type": "code",
      "execution_count": 35,
      "id": "fa1af944",
      "metadata": {
        "colab": {
          "base_uri": "https://localhost:8080/",
          "height": 373
        },
        "id": "fa1af944",
        "outputId": "caa8e731-b2d7-4026-8af6-22957d515063"
      },
      "outputs": [],
      "source": [
        "import time\n",
        "# import busio\n",
        "\n",
        "# import board\n",
        "# from board import SCL,SDA\n",
        "\n",
        "# from adafruit_seesaw.seesaw import Seesaw\n",
        "import requests\n",
        "# from picamera import PiCamera\n",
        "\n",
        "import numpy as np\n",
        "import skfuzzy as fuzz\n",
        "from skfuzzy import control as ctrl\n",
        "# import keras\n",
        "# import RPi.GPIO as GPIO \n",
        "import time"
      ]
    },
    {
      "cell_type": "code",
      "execution_count": 36,
      "id": "431ab728",
      "metadata": {
        "id": "431ab728"
      },
      "outputs": [],
      "source": [
        "def get_moisture():\n",
        "    i2c_bus = busio.I2C(SCL,SDA)\n",
        "\n",
        "    ss = Seesaw(i2c_bus, addr=0x36)\n",
        "\n",
        "    touch = 0.0\n",
        "    temp = 0.0\n",
        "\n",
        "    while True:    # read moisture level through capacitive touch pad\n",
        "        touch = touch + float(ss.moisture_read())\n",
        "        # read temperature from the temperature sensor\n",
        "        temp = float(ss.get_temp())\n",
        "\n",
        "        #print(\"temp: \" + str(temp) + \"  moisture: \" + str(touch))\n",
        "        time.sleep(1)\n",
        "\n",
        "    touch = touch/5\n",
        "    temp = temp/5\n",
        "    return touch"
      ]
    },
    {
      "cell_type": "code",
      "execution_count": 37,
      "id": "803c053d",
      "metadata": {
        "id": "803c053d"
      },
      "outputs": [
        {
          "ename": "SyntaxError",
          "evalue": "invalid syntax (Temp/ipykernel_4740/1790752236.py, line 1)",
          "output_type": "error",
          "traceback": [
            "\u001b[1;36m  File \u001b[1;32m\"C:\\Users\\utsav\\AppData\\Local\\Temp/ipykernel_4740/1790752236.py\"\u001b[1;36m, line \u001b[1;32m1\u001b[0m\n\u001b[1;33m    def Capture_Image:\u001b[0m\n\u001b[1;37m                     ^\u001b[0m\n\u001b[1;31mSyntaxError\u001b[0m\u001b[1;31m:\u001b[0m invalid syntax\n"
          ]
        }
      ],
      "source": [
        "def Capture_Image:\n",
        "    camera = PiCamera()\n",
        "    camera.capture('/home/pi/Desktop/image.jpg')"
      ]
    },
    {
      "cell_type": "code",
      "execution_count": null,
      "id": "a8caf51f",
      "metadata": {
        "id": "a8caf51f"
      },
      "outputs": [],
      "source": [
        "def Image_Process(path):\n",
        "    model = keras.models.load_model(\"vgg16_NP1.h5\")\n",
        "    image_size = (224, 224)\n",
        "    img = keras.preprocessing.image.load_img(\n",
        "        \"abc1.jpg\", target_size=image_size\n",
        "    )\n",
        "    img_array = keras.preprocessing.image.img_to_array(img)\n",
        "\n",
        "    img_array = tf.expand_dims(img_array, 0)  # Create batch axis\n",
        "\n",
        "    predictions = model.predict(img_array)\n",
        "    score = predictions[0]*100\n",
        "    "
      ]
    },
    {
      "cell_type": "code",
      "execution_count": null,
      "id": "df5da2af",
      "metadata": {
        "id": "df5da2af"
      },
      "outputs": [],
      "source": [
        "def Image_Processing()\n",
        "    Capture_Image()\n",
        "    Image_Process()\n",
        "    return crop_status"
      ]
    },
    {
      "cell_type": "markdown",
      "id": "descending-abraham",
      "metadata": {
        "id": "descending-abraham"
      },
      "source": [
        "Importing thr required modules"
      ]
    },
    {
      "cell_type": "markdown",
      "id": "civilian-senate",
      "metadata": {
        "id": "civilian-senate"
      },
      "source": [
        "## Problem Definition and Anticedents and Consequents"
      ]
    },
    {
      "cell_type": "markdown",
      "id": "ambient-owner",
      "metadata": {
        "id": "ambient-owner"
      },
      "source": [
        "Declaring the antecedents and consequents in the specified range."
      ]
    },
    {
      "cell_type": "code",
      "execution_count": 73,
      "id": "conceptual-fleece",
      "metadata": {
        "id": "conceptual-fleece"
      },
      "outputs": [],
      "source": [
        "soil_moisture = ctrl.Antecedent(np.arange(200, 1500, 1), 'soil_moisture')\n",
        "PrecipitationProbability = ctrl.Antecedent(np.arange(0, 101, 1), 'PrecipitationProbability')\n",
        "Precipitation = ctrl.Antecedent(np.arange(0, 101, 1), 'Precipitation')\n",
        "crop_status = ctrl.Antecedent(np.arange(0, 2, 1), 'crop_status')\n",
        "irrigation_duration = ctrl.Consequent(np.arange(0, 16, 1), 'irrigation_duration')"
      ]
    },
    {
      "cell_type": "markdown",
      "id": "aggregate-newfoundland",
      "metadata": {
        "id": "aggregate-newfoundland"
      },
      "source": [
        "### Soil Moisture"
      ]
    },
    {
      "cell_type": "markdown",
      "id": "uniform-purse",
      "metadata": {
        "id": "uniform-purse"
      },
      "source": [
        "Soil Moisture takes three crisp values : low, medium and high <br>\n",
        "\n",
        "Soil Moisture takes Gaussian membership function. The parameters are universe of discourse, mean (centre) value of range, and standard deviation."
      ]
    },
    {
      "cell_type": "code",
      "execution_count": 74,
      "id": "ad9bd6b8",
      "metadata": {
        "id": "ad9bd6b8"
      },
      "outputs": [
        {
          "name": "stderr",
          "output_type": "stream",
          "text": [
            "C:\\Users\\utsav\\anaconda3\\lib\\site-packages\\skfuzzy\\control\\fuzzyvariable.py:122: UserWarning: Matplotlib is currently using module://matplotlib_inline.backend_inline, which is a non-GUI backend, so cannot show the figure.\n",
            "  fig.show()\n"
          ]
        },
        {
          "data": {
            "image/png": "[encoded data removed]",
            "text/plain": [
              "<Figure size 432x288 with 1 Axes>"
            ]
          },
          "metadata": {
            "needs_background": "light"
          },
          "output_type": "display_data"
        }
      ],
      "source": [
        "soil_moisture['poor'] = fuzz.trimf(soil_moisture.universe, [200, 200, 600])\n",
        "soil_moisture['average'] = fuzz.trimf(soil_moisture.universe, [200, 600, 1000])\n",
        "soil_moisture['good'] = fuzz.trimf(soil_moisture.universe, [850, 1500, 1500])\n",
        "soil_moisture.view()"
      ]
    },
    {
      "cell_type": "markdown",
      "id": "electrical-prefix",
      "metadata": {
        "id": "electrical-prefix"
      },
      "source": [
        "### Weather Forecast"
      ]
    },
    {
      "cell_type": "markdown",
      "id": "comparable-swiss",
      "metadata": {
        "id": "comparable-swiss"
      },
      "source": [
        "Weather forecast is categorised in three different crisp values : Sunny, Cloudy and Rainy <br> \n",
        "\n",
        "Weather Forecast is defined using Gaussian membership function. The parameters are universe of discourse, mean (centre) value of range, and standard deviation."
      ]
    },
    {
      "cell_type": "code",
      "execution_count": 75,
      "id": "36252dea",
      "metadata": {
        "id": "36252dea"
      },
      "outputs": [
        {
          "name": "stderr",
          "output_type": "stream",
          "text": [
            "C:\\Users\\utsav\\anaconda3\\lib\\site-packages\\skfuzzy\\control\\fuzzyvariable.py:122: UserWarning: Matplotlib is currently using module://matplotlib_inline.backend_inline, which is a non-GUI backend, so cannot show the figure.\n",
            "  fig.show()\n"
          ]
        },
        {
          "data": {
            "image/png": "[encoded data removed]",
            "text/plain": [
              "<Figure size 432x288 with 1 Axes>"
            ]
          },
          "metadata": {
            "needs_background": "light"
          },
          "output_type": "display_data"
        }
      ],
      "source": [
        "PrecipitationProbability['low'] = fuzz.trimf(PrecipitationProbability.universe, [0, 0, 45])\n",
        "PrecipitationProbability['normal'] = fuzz.trimf(PrecipitationProbability.universe, [30, 45, 75])\n",
        "PrecipitationProbability['high'] = fuzz.trimf(PrecipitationProbability.universe, [75, 100, 100])\n",
        "PrecipitationProbability.view()"
      ]
    },
    {
      "cell_type": "code",
      "execution_count": 76,
      "id": "9da48f71",
      "metadata": {
        "id": "9da48f71"
      },
      "outputs": [
        {
          "name": "stderr",
          "output_type": "stream",
          "text": [
            "C:\\Users\\utsav\\anaconda3\\lib\\site-packages\\skfuzzy\\control\\fuzzyvariable.py:122: UserWarning: Matplotlib is currently using module://matplotlib_inline.backend_inline, which is a non-GUI backend, so cannot show the figure.\n",
            "  fig.show()\n"
          ]
        },
        {
          "data": {
            "image/png": "[encoded data removed]",
            "text/plain": [
              "<Figure size 432x288 with 1 Axes>"
            ]
          },
          "metadata": {
            "needs_background": "light"
          },
          "output_type": "display_data"
        }
      ],
      "source": [
        "Precipitation['low'] = fuzz.trimf(Precipitation.universe, [0, 0, 5])\n",
        "Precipitation['normal'] = fuzz.trimf(Precipitation.universe, [2, 5, 10])\n",
        "Precipitation['high'] = fuzz.trimf(Precipitation.universe, [10, 100, 100])\n",
        "Precipitation.view()"
      ]
    },
    {
      "cell_type": "markdown",
      "id": "discrete-press",
      "metadata": {
        "id": "discrete-press"
      },
      "source": [
        "### Crop Status "
      ]
    },
    {
      "cell_type": "markdown",
      "id": "weighted-cooling",
      "metadata": {
        "id": "weighted-cooling"
      },
      "source": [
        "The Crop Status takes almost crisp values i.e. either dry, normal or high which can be defined using triangular membership fuction. <br>\n",
        "\n",
        "It takes two arguments : universe of discourse, array [ starting value, centre value, ending value ]"
      ]
    },
    {
      "cell_type": "code",
      "execution_count": 77,
      "id": "3cc65131",
      "metadata": {
        "id": "3cc65131"
      },
      "outputs": [
        {
          "name": "stderr",
          "output_type": "stream",
          "text": [
            "C:\\Users\\utsav\\anaconda3\\lib\\site-packages\\skfuzzy\\control\\fuzzyvariable.py:122: UserWarning: Matplotlib is currently using module://matplotlib_inline.backend_inline, which is a non-GUI backend, so cannot show the figure.\n",
            "  fig.show()\n"
          ]
        },
        {
          "data": {
            "image/png": "[encoded data removed]",
            "text/plain": [
              "<Figure size 432x288 with 1 Axes>"
            ]
          },
          "metadata": {
            "needs_background": "light"
          },
          "output_type": "display_data"
        }
      ],
      "source": [
        "crop_status.automf()\n",
        "crop_status.view()"
      ]
    },
    {
      "cell_type": "markdown",
      "id": "latter-entrance",
      "metadata": {
        "id": "latter-entrance"
      },
      "source": [
        "### Consequent : Irrigation Duration (in minutes)"
      ]
    },
    {
      "cell_type": "markdown",
      "id": "russian-admission",
      "metadata": {
        "id": "russian-admission"
      },
      "source": [
        "Irrigation Duration is in minutes in terms of less, medium and high. It also defined by Gaussian membership function."
      ]
    },
    {
      "cell_type": "code",
      "execution_count": 78,
      "id": "3722c33a",
      "metadata": {},
      "outputs": [
        {
          "name": "stderr",
          "output_type": "stream",
          "text": [
            "C:\\Users\\utsav\\anaconda3\\lib\\site-packages\\skfuzzy\\control\\fuzzyvariable.py:122: UserWarning: Matplotlib is currently using module://matplotlib_inline.backend_inline, which is a non-GUI backend, so cannot show the figure.\n",
            "  fig.show()\n"
          ]
        },
        {
          "data": {
            "image/png": "[encoded data removed]",
            "text/plain": [
              "<Figure size 432x288 with 1 Axes>"
            ]
          },
          "metadata": {
            "needs_background": "light"
          },
          "output_type": "display_data"
        }
      ],
      "source": [
        "irrigation_duration['poor'] = fuzz.trimf(irrigation_duration.universe, [0, 0, 3])\n",
        "irrigation_duration['average'] = fuzz.trimf(irrigation_duration.universe, [3, 7, 9])\n",
        "irrigation_duration['good'] = fuzz.trimf(irrigation_duration.universe, [9, 15, 15])\n",
        "irrigation_duration.view()"
      ]
    },
    {
      "cell_type": "code",
      "execution_count": 79,
      "id": "d6b94d1a",
      "metadata": {
        "id": "d6b94d1a"
      },
      "outputs": [],
      "source": [
        "# irrigation_duration.automf(3)\n",
        "# irrigation_duration.view()"
      ]
    },
    {
      "cell_type": "markdown",
      "id": "charitable-johns",
      "metadata": {
        "id": "charitable-johns"
      },
      "source": [
        "## Defining Fuzzy Rules"
      ]
    },
    {
      "cell_type": "markdown",
      "id": "elementary-pavilion",
      "metadata": {
        "id": "elementary-pavilion"
      },
      "source": [
        "The fuzzy rules are defined as follows: <br>\n",
        "\n",
        "Simple inferences are : <br>\n",
        "\n",
        "<list>\n",
        "\n",
        "<li>If the moisture is low and crop status is low then based on the water tank level, the water should be supplied. <br>\n",
        "\n",
        "<li>If the moisture is medium and forecast is rainy, we may not need to supply water for longer time. <br>\n",
        "\n",
        "<li>If the moisture is high and crop status is high then without looking at other antecedents the water supply should be provided for less time. <br>\n",
        "    \n",
        "</list>"
      ]
    },
    {
      "cell_type": "code",
      "execution_count": 80,
      "id": "cd3efa0e",
      "metadata": {
        "id": "cd3efa0e"
      },
      "outputs": [],
      "source": [
        "# i = 1\n",
        "# for x in [\"poor\", \"average\", \"good\"]:\n",
        "#     for y in [\"low\", \"normal\", \"high\"]:\n",
        "#         for z in [\"low\", \"normal\", \"high\"]:\n",
        "#             for w in [\"poor\", \"good\"]:\n",
        "#                 a = \"\"\n",
        "#                 if z == \"high\":\n",
        "#                     a = \"rule\" + str(i) + \" = ctrl.Rule(soil_moisture['\" + x + \"'] & PrecipitationProbability['\" + y + \"'] & Precipitation['\" + z + \"'] & crop_status['\" + w + \"'], irrigation_duration['poor'])\"\n",
        "#                 else:\n",
        "#                     a = \"rule\" + str(i) + \" = ctrl.Rule(soil_moisture['\" + x + \"'] & PrecipitationProbability['\" + y + \"'] & Precipitation['\" + z + \"'] & crop_status['\" + w + \"'], irrigation_duration[''])\"\n",
        "#                 print(a)\n",
        "#                 i = i+1"
      ]
    },
    {
      "cell_type": "code",
      "execution_count": 81,
      "id": "d8a1340f",
      "metadata": {
        "id": "d8a1340f"
      },
      "outputs": [],
      "source": [
        "rule1 = ctrl.Rule(soil_moisture['poor'] & PrecipitationProbability['low'] & Precipitation['low'] & crop_status['poor'], irrigation_duration['good'])\n",
        "rule2 = ctrl.Rule(soil_moisture['poor'] & PrecipitationProbability['low'] & Precipitation['low'] & crop_status['good'], irrigation_duration['good'])\n",
        "rule3 = ctrl.Rule(soil_moisture['poor'] & PrecipitationProbability['low'] & Precipitation['normal'] & crop_status['poor'], irrigation_duration['average'])\n",
        "rule4 = ctrl.Rule(soil_moisture['poor'] & PrecipitationProbability['low'] & Precipitation['normal'] & crop_status['good'], irrigation_duration['average'])\n",
        "rule5 = ctrl.Rule(soil_moisture['poor'] & PrecipitationProbability['low'] & Precipitation['high'] & crop_status['poor'], irrigation_duration['poor'])\n",
        "rule6 = ctrl.Rule(soil_moisture['poor'] & PrecipitationProbability['low'] & Precipitation['high'] & crop_status['good'], irrigation_duration['poor'])\n",
        "rule7 = ctrl.Rule(soil_moisture['poor'] & PrecipitationProbability['normal'] & Precipitation['low'] & crop_status['poor'], irrigation_duration['average'])\n",
        "rule8 = ctrl.Rule(soil_moisture['poor'] & PrecipitationProbability['normal'] & Precipitation['low'] & crop_status['good'], irrigation_duration['average'])\n",
        "rule9 = ctrl.Rule(soil_moisture['poor'] & PrecipitationProbability['normal'] & Precipitation['normal'] & crop_status['poor'], irrigation_duration['average'])\n",
        "rule10 = ctrl.Rule(soil_moisture['poor'] & PrecipitationProbability['normal'] & Precipitation['normal'] & crop_status['good'], irrigation_duration['poor'])\n",
        "rule11 = ctrl.Rule(soil_moisture['poor'] & PrecipitationProbability['normal'] & Precipitation['high'] & crop_status['poor'], irrigation_duration['poor'])\n",
        "rule12 = ctrl.Rule(soil_moisture['poor'] & PrecipitationProbability['normal'] & Precipitation['high'] & crop_status['good'], irrigation_duration['poor'])\n",
        "rule13 = ctrl.Rule(soil_moisture['poor'] & PrecipitationProbability['high'] & Precipitation['low'] & crop_status['poor'], irrigation_duration['average'])\n",
        "rule14 = ctrl.Rule(soil_moisture['poor'] & PrecipitationProbability['high'] & Precipitation['low'] & crop_status['good'], irrigation_duration['poor'])\n",
        "rule15 = ctrl.Rule(soil_moisture['poor'] & PrecipitationProbability['high'] & Precipitation['normal'] & crop_status['poor'], irrigation_duration['average'])\n",
        "rule16 = ctrl.Rule(soil_moisture['poor'] & PrecipitationProbability['high'] & Precipitation['normal'] & crop_status['good'], irrigation_duration['poor'])\n",
        "rule17 = ctrl.Rule(soil_moisture['poor'] & PrecipitationProbability['high'] & Precipitation['high'] & crop_status['poor'], irrigation_duration['poor'])\n",
        "rule18 = ctrl.Rule(soil_moisture['poor'] & PrecipitationProbability['high'] & Precipitation['high'] & crop_status['good'], irrigation_duration['poor'])\n",
        "rule19 = ctrl.Rule(soil_moisture['average'] & PrecipitationProbability['low'] & Precipitation['low'] & crop_status['poor'], irrigation_duration['good'])\n",
        "rule20 = ctrl.Rule(soil_moisture['average'] & PrecipitationProbability['low'] & Precipitation['low'] & crop_status['good'], irrigation_duration['average'])\n",
        "rule21 = ctrl.Rule(soil_moisture['average'] & PrecipitationProbability['low'] & Precipitation['normal'] & crop_status['poor'], irrigation_duration['average'])\n",
        "rule22 = ctrl.Rule(soil_moisture['average'] & PrecipitationProbability['low'] & Precipitation['normal'] & crop_status['good'], irrigation_duration['average'])\n",
        "rule23 = ctrl.Rule(soil_moisture['average'] & PrecipitationProbability['low'] & Precipitation['high'] & crop_status['poor'], irrigation_duration['poor'])\n",
        "rule24 = ctrl.Rule(soil_moisture['average'] & PrecipitationProbability['low'] & Precipitation['high'] & crop_status['good'], irrigation_duration['poor'])\n",
        "rule25 = ctrl.Rule(soil_moisture['average'] & PrecipitationProbability['normal'] & Precipitation['low'] & crop_status['poor'], irrigation_duration['good'])\n",
        "rule26 = ctrl.Rule(soil_moisture['average'] & PrecipitationProbability['normal'] & Precipitation['low'] & crop_status['good'], irrigation_duration['average'])\n",
        "rule27 = ctrl.Rule(soil_moisture['average'] & PrecipitationProbability['normal'] & Precipitation['normal'] & crop_status['poor'], irrigation_duration['average'])\n",
        "rule28 = ctrl.Rule(soil_moisture['average'] & PrecipitationProbability['normal'] & Precipitation['normal'] & crop_status['good'], irrigation_duration['poor'])\n",
        "rule29 = ctrl.Rule(soil_moisture['average'] & PrecipitationProbability['normal'] & Precipitation['high'] & crop_status['poor'], irrigation_duration['poor'])\n",
        "rule30 = ctrl.Rule(soil_moisture['average'] & PrecipitationProbability['normal'] & Precipitation['high'] & crop_status['good'], irrigation_duration['poor'])\n",
        "rule31 = ctrl.Rule(soil_moisture['average'] & PrecipitationProbability['high'] & Precipitation['low'] & crop_status['poor'], irrigation_duration['average'])\n",
        "rule32 = ctrl.Rule(soil_moisture['average'] & PrecipitationProbability['high'] & Precipitation['low'] & crop_status['good'], irrigation_duration['poor'])\n",
        "rule33 = ctrl.Rule(soil_moisture['average'] & PrecipitationProbability['high'] & Precipitation['normal'] & crop_status['poor'], irrigation_duration['average'])\n",
        "rule34 = ctrl.Rule(soil_moisture['average'] & PrecipitationProbability['high'] & Precipitation['normal'] & crop_status['good'], irrigation_duration['poor'])\n",
        "rule35 = ctrl.Rule(soil_moisture['average'] & PrecipitationProbability['high'] & Precipitation['high'] & crop_status['poor'], irrigation_duration['poor'])\n",
        "rule36 = ctrl.Rule(soil_moisture['average'] & PrecipitationProbability['high'] & Precipitation['high'] & crop_status['good'], irrigation_duration['poor'])\n",
        "rule37 = ctrl.Rule(soil_moisture['good'] & PrecipitationProbability['low'] & Precipitation['low'] & crop_status['poor'], irrigation_duration['average'])\n",
        "rule38 = ctrl.Rule(soil_moisture['good'] & PrecipitationProbability['low'] & Precipitation['low'] & crop_status['good'], irrigation_duration['average'])\n",
        "rule39 = ctrl.Rule(soil_moisture['good'] & PrecipitationProbability['low'] & Precipitation['normal'] & crop_status['poor'], irrigation_duration['average'])\n",
        "rule40 = ctrl.Rule(soil_moisture['good'] & PrecipitationProbability['low'] & Precipitation['normal'] & crop_status['good'], irrigation_duration['poor'])\n",
        "rule41 = ctrl.Rule(soil_moisture['good'] & PrecipitationProbability['low'] & Precipitation['high'] & crop_status['poor'], irrigation_duration['poor'])\n",
        "rule42 = ctrl.Rule(soil_moisture['good'] & PrecipitationProbability['low'] & Precipitation['high'] & crop_status['good'], irrigation_duration['poor'])\n",
        "rule43 = ctrl.Rule(soil_moisture['good'] & PrecipitationProbability['normal'] & Precipitation['low'] & crop_status['poor'], irrigation_duration['average'])\n",
        "rule44 = ctrl.Rule(soil_moisture['good'] & PrecipitationProbability['normal'] & Precipitation['low'] & crop_status['good'], irrigation_duration['poor'])\n",
        "rule45 = ctrl.Rule(soil_moisture['good'] & PrecipitationProbability['normal'] & Precipitation['normal'] & crop_status['poor'], irrigation_duration['average'])\n",
        "rule46 = ctrl.Rule(soil_moisture['good'] & PrecipitationProbability['normal'] & Precipitation['normal'] & crop_status['good'], irrigation_duration['poor'])\n",
        "rule47 = ctrl.Rule(soil_moisture['good'] & PrecipitationProbability['normal'] & Precipitation['high'] & crop_status['poor'], irrigation_duration['poor'])\n",
        "rule48 = ctrl.Rule(soil_moisture['good'] & PrecipitationProbability['normal'] & Precipitation['high'] & crop_status['good'], irrigation_duration['poor'])\n",
        "rule49 = ctrl.Rule(soil_moisture['good'] & PrecipitationProbability['high'] & Precipitation['low'] & crop_status['poor'], irrigation_duration['poor'])\n",
        "rule50 = ctrl.Rule(soil_moisture['good'] & PrecipitationProbability['high'] & Precipitation['low'] & crop_status['good'], irrigation_duration['poor'])\n",
        "rule51 = ctrl.Rule(soil_moisture['good'] & PrecipitationProbability['high'] & Precipitation['normal'] & crop_status['poor'], irrigation_duration['poor'])\n",
        "rule52 = ctrl.Rule(soil_moisture['good'] & PrecipitationProbability['high'] & Precipitation['normal'] & crop_status['good'], irrigation_duration['poor'])\n",
        "rule53 = ctrl.Rule(soil_moisture['good'] & PrecipitationProbability['high'] & Precipitation['high'] & crop_status['poor'], irrigation_duration['poor'])\n",
        "rule54 = ctrl.Rule(soil_moisture['good'] & PrecipitationProbability['high'] & Precipitation['high'] & crop_status['good'], irrigation_duration['poor'])\n"
      ]
    },
    {
      "cell_type": "markdown",
      "id": "centered-lodge",
      "metadata": {
        "id": "centered-lodge"
      },
      "source": [
        "## Creating Fuzzy Controller from Fuzzy Rules"
      ]
    },
    {
      "cell_type": "code",
      "execution_count": 82,
      "id": "noted-alliance",
      "metadata": {
        "id": "noted-alliance"
      },
      "outputs": [],
      "source": [
        "waterpump_ctrl = ctrl.ControlSystem([rule1, rule2, rule3, rule4, rule5, rule6, rule7, rule8, rule9, rule11, rule12, rule13, rule14, rule15, rule16, rule17, rule18, rule19, rule21, rule22, rule23, rule24, rule25, rule26, rule27, rule28, rule29, rule30, rule31, rule32, rule33, rule34, rule35, rule36, rule37, rule38, rule39, rule40, rule41, rule42, rule43, rule44, rule45, rule46, rule47, rule48, rule49, rule50, rule51, rule52, rule53, rule54])\n",
        "irrigation_system = ctrl.ControlSystemSimulation(waterpump_ctrl)"
      ]
    },
    {
      "cell_type": "markdown",
      "id": "combined-retrieval",
      "metadata": {
        "id": "combined-retrieval"
      },
      "source": [
        "## Using Fuzzy Controller"
      ]
    },
    {
      "cell_type": "markdown",
      "id": "major-approach",
      "metadata": {
        "id": "major-approach"
      },
      "source": [
        "Here, the situation is : Soil moisture is low, weather forecast is cloduy, crop is dry and tank has enough supply of water, so the irrgation should be done for medium time as the forecast may change to rainy and if there is more water in fields it may introduce fungus and other plant root related diseases."
      ]
    },
    {
      "cell_type": "markdown",
      "id": "golden-collaboration",
      "metadata": {
        "id": "golden-collaboration"
      },
      "source": [
        "Here the situation is as follows : <br>\n",
        "\n",
        "The soil is medium moisturised, weather is sunny, crop is normal and tank is almost empty. So the water can be supplied for lower time until the tank gets totally empty."
      ]
    },
    {
      "cell_type": "markdown",
      "id": "linear-special",
      "metadata": {
        "id": "linear-special"
      },
      "source": [
        "The last case is given as : <br>\n",
        "\n",
        "The soil is dry, the weather is sunny, crop is dry and tank level is almost full. Here crops can die due to less supply of water. We have enough water, we can supply water to the maximum rate possible."
      ]
    },
    {
      "cell_type": "code",
      "execution_count": 97,
      "id": "f3e9c59c",
      "metadata": {},
      "outputs": [
        {
          "name": "stdout",
          "output_type": "stream",
          "text": [
            "6.257142857142856\n"
          ]
        },
        {
          "name": "stderr",
          "output_type": "stream",
          "text": [
            "C:\\Users\\utsav\\anaconda3\\lib\\site-packages\\skfuzzy\\control\\fuzzyvariable.py:122: UserWarning: Matplotlib is currently using module://matplotlib_inline.backend_inline, which is a non-GUI backend, so cannot show the figure.\n",
            "  fig.show()\n"
          ]
        },
        {
          "data": {
            "image/png": "[encoded data removed]",
            "text/plain": [
              "<Figure size 432x288 with 1 Axes>"
            ]
          },
          "metadata": {
            "needs_background": "light"
          },
          "output_type": "display_data"
        }
      ],
      "source": [
        "irrigation_system.input['soil_moisture'] = 605\n",
        "irrigation_system.input['PrecipitationProbability'] = 99\n",
        "irrigation_system.input['Precipitation'] = 2\n",
        "irrigation_system.input['crop_status'] = 0\n",
        "irrigation_system.compute()\n",
        "print(irrigation_system.output['irrigation_duration'])\n",
        "irrigation_duration.view(sim=irrigation_system)"
      ]
    },
    {
      "cell_type": "code",
      "execution_count": 84,
      "id": "2c09834e",
      "metadata": {
        "id": "2c09834e"
      },
      "outputs": [
        {
          "ename": "SyntaxError",
          "evalue": "invalid syntax (Temp/ipykernel_4740/387708837.py, line 1)",
          "output_type": "error",
          "traceback": [
            "\u001b[1;36m  File \u001b[1;32m\"C:\\Users\\utsav\\AppData\\Local\\Temp/ipykernel_4740/387708837.py\"\u001b[1;36m, line \u001b[1;32m1\u001b[0m\n\u001b[1;33m    def Output()\u001b[0m\n\u001b[1;37m                ^\u001b[0m\n\u001b[1;31mSyntaxError\u001b[0m\u001b[1;31m:\u001b[0m invalid syntax\n"
          ]
        }
      ],
      "source": [
        "def Output()\n",
        "    irrigation_system.input['soil_moisture'] = get_moisture()\n",
        "    PrecipitationProbability,Precipitation = get_weather_params()\n",
        "    irrigation_system.input['PrecipitationProbability'] = PrecipitationProbability\n",
        "    irrigation_system.input['Precipitation'] = Precipitation\n",
        "    irrigation_system.input['crop_status'] = Image_Processsing()\n",
        "    irrigation_system.compute()\n",
        "return irrigation_system.output['irrigation_duration']"
      ]
    },
    {
      "cell_type": "code",
      "execution_count": null,
      "id": "bUtQdHW2jtcy",
      "metadata": {
        "id": "bUtQdHW2jtcy"
      },
      "outputs": [],
      "source": [
        "time = []\n",
        "for soil in range(200,1501):\n",
        "  for prob in range(0,101):\n",
        "   for pro in range(0,101):\n",
        "     for im in range(0,2):\n",
        "      irrigation_system.input['soil_moisture'] = soil\n",
        "      irrigation_system.input['PrecipitationProbability'] = prob\n",
        "      irrigation_system.input['Precipitation'] = pro\n",
        "      irrigation_system.input['crop_status'] = im\n",
        "      irrigation_system.compute()\n",
        "      time.append(irrigation_system.output['irrigation_duration'])"
      ]
    },
    {
      "cell_type": "code",
      "execution_count": null,
      "id": "04d8daa1",
      "metadata": {
        "id": "04d8daa1"
      },
      "outputs": [],
      "source": [
        "ledl = 8\n",
        "\n",
        "GPIO.setwarnings(False)\n",
        "GPIO.setmode (GPIO.BOARD) \n",
        "GPIO.setup(ledl, GPIO.OUT)\n",
        "\n",
        "\n",
        "GPIO.output (ledl, True)\n",
        "#print(\"yes\")\n",
        "time.sleep()\n",
        "\n",
        "GPIO.output (ledl, False)\n",
        "#print(\"no\")\n"
      ]
    },
    {
      "cell_type": "code",
      "execution_count": 13,
      "id": "1d602cfe",
      "metadata": {},
      "outputs": [
        {
          "name": "stdout",
          "output_type": "stream",
          "text": [
            "Note: you may need to restart the kernel to use updated packages.\n"
          ]
        },
        {
          "name": "stderr",
          "output_type": "stream",
          "text": [
            "ERROR: Could not find a version that satisfies the requirement sqlite3 (from versions: none)\n",
            "ERROR: No matching distribution found for sqlite3\n"
          ]
        }
      ],
      "source": [
        "pip install sqlite3"
      ]
    },
    {
      "cell_type": "code",
      "execution_count": 6,
      "id": "8e98f965",
      "metadata": {},
      "outputs": [],
      "source": [
        "import sqlite3"
      ]
    },
    {
      "cell_type": "code",
      "execution_count": 36,
      "id": "b11eedee",
      "metadata": {},
      "outputs": [],
      "source": [
        "\n",
        "conn = sqlite3.connect('data.db')\n",
        "\n",
        "c = conn.cursor()\n",
        "c.execute(\"\"\"CREATE TABLE Customer_Info(username text, password text, location integer)\"\"\")\n",
        "conn.commit()\n",
        "\n",
        "conn.close()"
      ]
    },
    {
      "cell_type": "code",
      "execution_count": 4,
      "id": "cc79c76e",
      "metadata": {},
      "outputs": [],
      "source": [
        "def add_to_database(username, password, location):\n",
        "        conn = sqlite3.connect('data.db')\n",
        "\n",
        "        c = conn.cursor()\n",
        "\n",
        "        all_user = c.execute(\"select username from Customer_Info\")\n",
        "        all_user = all_user.fetchall()\n",
        "        print(all_user)\n",
        "        if (username,) in all_user:\n",
        "                conn.commit()\n",
        "                conn.close()\n",
        "                return \"error1\"\n",
        "        else:\n",
        "                c.execute(\n",
        "                        \"insert into Customer_Info values (:username,:password,:location)\",\n",
        "                        {\n",
        "                        'username': username,\n",
        "                        'password': password,\n",
        "                        'location': location\n",
        "                        }\n",
        "                )\n",
        "                conn.commit()\n",
        "                conn.close()\n",
        "                return \"success\"\n",
        "        \n"
      ]
    },
    {
      "cell_type": "code",
      "execution_count": 7,
      "id": "3ff00e92",
      "metadata": {},
      "outputs": [
        {
          "name": "stdout",
          "output_type": "stream",
          "text": [
            "[('a',), ('Yugma',), ('xyz',)]\n"
          ]
        },
        {
          "data": {
            "text/plain": [
              "'error1'"
            ]
          },
          "execution_count": 7,
          "metadata": {},
          "output_type": "execute_result"
        }
      ],
      "source": [
        "add_to_database(\"a\",\"b\",2)"
      ]
    },
    {
      "cell_type": "code",
      "execution_count": 8,
      "id": "dcf25b95",
      "metadata": {},
      "outputs": [],
      "source": [
        "def check_in_database(username, password):\n",
        "    conn = sqlite3.connect('data.db')\n",
        "\n",
        "    c = conn.cursor()\n",
        "    password1 = c.execute(\"select username, password, location from Customer_Info\")\n",
        "    password1 = password1.fetchall()\n",
        "    temp1 = (username, password)\n",
        "    flag = 0\n",
        "    print(password)\n",
        "    for i, j, k in password1:\n",
        "        if i == username and j == password:           \n",
        "            pincode = k\n",
        "            flag = 1\n",
        "            conn.commit()\n",
        "            conn.close()\n",
        "            return \"success\",pincode\n",
        "    if flag == 0:\n",
        "        conn.commit()\n",
        "        conn.close()\n",
        "        return \"error\",0"
      ]
    },
    {
      "cell_type": "code",
      "execution_count": null,
      "id": "82f560d7",
      "metadata": {},
      "outputs": [
        {
          "name": "stdout",
          "output_type": "stream",
          "text": [
            "b\n",
            "a\n",
            "b\n",
            "2\n"
          ]
        },
        {
          "data": {
            "text/plain": [
              "('success', 2)"
            ]
          },
          "execution_count": 57,
          "metadata": {},
          "output_type": "execute_result"
        }
      ],
      "source": [
        "check_in_database(\"a\",\"b\")"
      ]
    },
    {
      "cell_type": "code",
      "execution_count": null,
      "id": "e160f4d4",
      "metadata": {},
      "outputs": [],
      "source": [
        "conn = sqlite3.connect('data_params.db')\n",
        "\n",
        "c = conn.cursor()\n",
        "c.execute(\"\"\"CREATE TABLE params(username text,soil_moisture integer, precipitation real, preci_prob real,crop_status integer,irrigation_dur real,date text)\"\"\")\n",
        "conn.commit()\n",
        "\n",
        "conn.close()"
      ]
    },
    {
      "cell_type": "code",
      "execution_count": 16,
      "id": "15849ddb",
      "metadata": {},
      "outputs": [],
      "source": [
        "def add_to_database(username,soil_moisture, precipitation, preci_prob, crop_status,irrigation_dur,date):\n",
        "        conn = sqlite3.connect('data_params.db')\n",
        "\n",
        "        c = conn.cursor()\n",
        "\n",
        "        c.execute(\n",
        "                \"insert into params values (:username,:soil_moisture,:precipitation,:preci_prob,:crop_status,:irrigation_dur,:date)\",\n",
        "                {\n",
        "                'username': username,\n",
        "                'soil_moisture': soil_moisture,\n",
        "                'precipitation': precipitation,\n",
        "                'preci_prob': preci_prob,\n",
        "                'crop_status': crop_status,\n",
        "                'irrigation_dur': irrigation_dur,\n",
        "                'date': date\n",
        "                }\n",
        "        )\n",
        "        conn.commit()\n",
        "        conn.close()"
      ]
    },
    {
      "cell_type": "code",
      "execution_count": null,
      "id": "9dc5987f",
      "metadata": {},
      "outputs": [],
      "source": [
        "def weather(x):\n",
        "    "
      ]
    },
    {
      "cell_type": "code",
      "execution_count": 15,
      "id": "00957f02",
      "metadata": {},
      "outputs": [
        {
          "name": "stdout",
          "output_type": "stream",
          "text": [
            " * Serving Flask app \"__main__\" (lazy loading)\n",
            " * Environment: production\n",
            "\u001b[31m   WARNING: This is a development server. Do not use it in a production deployment.\u001b[0m\n",
            "\u001b[2m   Use a production WSGI server instead.\u001b[0m\n",
            " * Debug mode: off\n"
          ]
        },
        {
          "name": "stderr",
          "output_type": "stream",
          "text": [
            " * Running on http://127.0.0.1:5000/ (Press CTRL+C to quit)\n",
            "127.0.0.1 - - [23/Apr/2022 22:17:26] \"GET / HTTP/1.1\" 200 -\n",
            "127.0.0.1 - - [23/Apr/2022 22:17:33] \"GET / HTTP/1.1\" 200 -\n",
            "127.0.0.1 - - [23/Apr/2022 22:17:57] \"POST /signin HTTP/1.1\" 200 -\n"
          ]
        },
        {
          "name": "stdout",
          "output_type": "stream",
          "text": [
            "in\n",
            "vrukshal\n",
            "1234\n",
            "3\n",
            "[('a',), ('Yugma',), ('xyz',), ('1',), ('456',)]\n"
          ]
        },
        {
          "name": "stderr",
          "output_type": "stream",
          "text": [
            "127.0.0.1 - - [23/Apr/2022 22:18:07] \"POST /dashboard HTTP/1.1\" 200 -\n"
          ]
        },
        {
          "name": "stdout",
          "output_type": "stream",
          "text": [
            "vrukshal\n",
            "1234\n"
          ]
        }
      ],
      "source": [
        "from flask import Flask,redirect,url_for,render_template,request\n",
        "from flask import Markup\n",
        "app = Flask(__name__)\n",
        "\n",
        "@app.route('/')\n",
        "def login():\n",
        "    #return \"HEY\"\n",
        "    return render_template('index.html')\n",
        "\n",
        "@app.route('/signin',methods = ['POST'])\n",
        "def collect():\n",
        "    if request.method == 'POST':\n",
        "        print(\"in\")\n",
        "        username = request.form['username']\n",
        "        print(username)\n",
        "        password = request.form['Password']\n",
        "        print(password)\n",
        "        location = request.form['location']\n",
        "        print(location)\n",
        "        m = add_to_database(username,password,location)\n",
        "        if m == \"success\" :\n",
        "            return render_template('index.html')\n",
        "        elif m == \"error1\":\n",
        "            return render_template('index.html', error = \"Username already exists\")\n",
        "\n",
        "@app.route('/dashboard',methods = ['POST'])\n",
        "def verify():\n",
        "    if request.method == 'POST':\n",
        "        username = request.form['user']\n",
        "        print(username)\n",
        "        password = request.form['pass']\n",
        "        x = check_in_database(username,password)\n",
        "        if x[0] == \"error\":\n",
        "            return render_template('index.html', error = \"Invalid Username or password\")\n",
        "        else :\n",
        "            #weather(x[1])\n",
        "            return render_template('dashboard.html',preci_pro = 2,prec = 3,image_status = \"Healthy\",username = username )\n",
        "\n",
        "        \n",
        "@app.route('/submit',methods = ['POST','GET'])\n",
        "def get_duration():\n",
        "    if request.method == 'POST':\n",
        "        moisture_content = float(request.form['sensor'])\n",
        "        #preci = float(request.form['preci'])\n",
        "        #preci_prob = float(request.form['preci_prob'])\n",
        "        image_path = request.form['image']\n",
        "        img_status = Image_Process(image_path)\n",
        "        preci,preci_prob = weather\n",
        "        \n",
        "\n",
        "        \n",
        "if __name__=='__main__':\n",
        "    app.run()\n"
      ]
    }
  ],
  "metadata": {
    "colab": {
      "name": "Water Irrigation (1).ipynb",
      "provenance": []
    },
    "kernelspec": {
      "display_name": "Python 3",
      "language": "python",
      "name": "python3"
    },
    "language_info": {
      "codemirror_mode": {
        "name": "ipython",
        "version": 3
      },
      "file_extension": ".py",
      "mimetype": "text/x-python",
      "name": "python",
      "nbconvert_exporter": "python",
      "pygments_lexer": "ipython3",
      "version": "3.9.7"
    }
  },
  "nbformat": 4,
  "nbformat_minor": 5
}
